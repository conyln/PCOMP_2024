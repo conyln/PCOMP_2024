{
  "nbformat": 4,
  "nbformat_minor": 0,
  "metadata": {
    "colab": {
      "provenance": [],
      "include_colab_link": true
    },
    "kernelspec": {
      "name": "python3",
      "display_name": "Python 3"
    },
    "language_info": {
      "name": "python"
    }
  },
  "cells": [
    {
      "cell_type": "markdown",
      "metadata": {
        "id": "view-in-github",
        "colab_type": "text"
      },
      "source": [
        "<a href=\"https://colab.research.google.com/github/conyln/PCOMP_2024/blob/main/p01_campos_lagos_lagos_pino_urzua_verde_ramo_2024A.ipynb\" target=\"_parent\"><img src=\"https://colab.research.google.com/assets/colab-badge.svg\" alt=\"Open In Colab\"/></a>"
      ]
    },
    {
      "cell_type": "markdown",
      "source": [
        "#John Maeda\n"
      ],
      "metadata": {
        "id": "fmCDNsyKoxST"
      }
    },
    {
      "cell_type": "code",
      "source": [
        "from IPython.display import HTML\n",
        "HTML ('img src=\"https://drive.google.com/uc?export=view&id=1Lse8hGfYIdjBeYbtplfLAOB8OykpRu3R\"')"
      ],
      "metadata": {
        "colab": {
          "base_uri": "https://localhost:8080/",
          "height": 34
        },
        "id": "dXIfYTXdnXGh",
        "outputId": "d0526fa4-712d-4483-c35f-85bed8383f43"
      },
      "execution_count": null,
      "outputs": [
        {
          "output_type": "execute_result",
          "data": {
            "text/plain": [
              "<IPython.core.display.HTML object>"
            ],
            "text/html": [
              "img src=\"https://drive.google.com/uc?export=view&id=1Lse8hGfYIdjBeYbtplfLAOB8OykpRu3R\""
            ]
          },
          "metadata": {},
          "execution_count": 7
        }
      ]
    },
    {
      "cell_type": "code",
      "source": [
        "from IPython.display import HTML\n",
        "\n",
        "html_code = '''\n",
        "<img src=\"https://www.veteralia.com/wp-content/uploads/2017/03/Intro.jpg\" alt=\"Descripción de la imagen\" width=\"600\" height=\"400\"/>\n",
        "'''\n",
        "\n",
        "display(HTML(html_code))"
      ],
      "metadata": {
        "id": "g5tq9BMWrJRE"
      },
      "execution_count": null,
      "outputs": []
    },
    {
      "cell_type": "markdown",
      "source": [
        "####En los sistemas educativos actuales, es esencial integrar distintas disciplinas para el desarrollo de los estudiantes. En la década de los 90 se creó el modelo __STEM__, que combina ciencia, tecnología, ingeniería y matemáticas para desarrollar habilidades lógicas. La crisis económica de 2008 llevó a la necesidad de innovación, dando lugar al modelo __STEAM__, que integra las disciplinas técnicas con el arte para unir la tecnología con la creatividad y generar soluciones a problemas complejos. __John Maeda__, diseñador y tecnólogo, ha sido clave en promover STEAM, demostrando cómo esta combinación enriquece la educación y fomenta la innovación en el mundo digital."
      ],
      "metadata": {
        "id": "7Jr3ME981D-C"
      }
    },
    {
      "cell_type": "markdown",
      "source": [
        "##**¿Qué es el STEM?**\n",
        "######Es un modelo educativo que emergió en la década de 1990 en Estados Unidos, integrando cuatro disciplinas fundamentales: __Ciencia__ (Science), __Tecnología__ (Technology), __Ingeniería__ (Engineering) y __Matemáticas__ (Mathematics). Este enfoque promueve el desarrollo de habilidades innovadoras, pensamiento crítico y resolución de problemas mediante un proceso activo y colaborativo que fomenta la indagación y la investigación, generando nuevas respuestas. A diferencia de la enseñanza tradicional, que se centra en la repetición de conocimientos establecidos, el modelo __STEM__ permite a los estudiantes crear y construir, facilitando un aprendizaje dinámico y aplicado."
      ],
      "metadata": {
        "id": "mWVaNfUGSptA"
      }
    },
    {
      "cell_type": "markdown",
      "source": [
        "##**¿En qué contexto nace la necesidad de desarrollar el modelo de educación STEAM?**\n",
        "######Durante la crisis económica de 2008 en Estados Unidos, surgió la necesidad de innovar para abordar el problema. Para lograr una transformación socioeconómica, no bastaba con combinar las disciplinas técnicas (STEM); era esencial incluir el __arte y el diseño__. Así nació el concepto __STEAM__ (Science, Technology, Engineering, __Art__, Mathematics), que integra estas áreas para proporcionar una educación integral, que permite a los estudiantes resolver problemas complejos, fomentando habilidades como la __creatividad__, la gestión emocional, el trabajo en equipo y la retención de información a largo plazo."
      ],
      "metadata": {
        "id": "dGrbNTdwSxDP"
      }
    },
    {
      "cell_type": "markdown",
      "source": [
        "##**¿Quién fue el impulsor del STEAM?**\n",
        "######__John Maeda__ (1996), diseñador, artista y tecnólogo estadounidense-japonés. Fue presidente de Rhode Island School of Design y actualmente es vicepresidente de Diseño e Inteligencia Artificial en Microsoft. En su carrera, ha explorado la intersección entre negocios, diseño y tecnología, desarrollando soluciones innovadoras. Su enfoque se centra en humanizar la tecnología y __fomentar la creatividad en el aprendizaje__ y el desarrollo de productos, con el objetivo de hacer la tecnología más accesible y comprensible para todos.\n"
      ],
      "metadata": {
        "id": "YAZLsrdHSEtI"
      }
    },
    {
      "cell_type": "markdown",
      "source": [
        "##**¿Cómo ha influido Maeda en la educación del diseño?**\n",
        "######Destacó durante su presidencia en la Rhode Island School of Design desde el 2008. Defendió el papel crucial de los artistas y diseñadores en la economía creativa contemporánea y promovió la __integración de la tecnología en el currículo de diseño__ para adaptarse a las demandas del futuro digital. Su enfoque buscó __preparar a los estudiantes__ para un mundo cada vez más digitalizado, combinando creatividad con habilidades tecnológicas y subrayando la importancia de la tecnología en el diseño."
      ],
      "metadata": {
        "id": "QzM0fuNGScNl"
      }
    },
    {
      "cell_type": "markdown",
      "source": [
        "##**¿Cómo ha influenciado John Maeda el fomento de la aplicación del sistema educativo STEAM?**\n",
        "######Ha demostrado que integrar ciencia, tecnología, ingeniería, arte y matemáticas puede producir resultados importantes. Combinó desarrollo de software con arte en sus primeros proyectos, sentando las __bases para los gráficos interactivos en la web__. Sostiene que integrar arte y diseño con disciplinas técnicas impulsa la innovación al fomentar el pensamiento crítico y creativo. Su __influencia__ en tecnología y educación ha sido clave para __promover la importancia de STEAM__ en el desarrollo estudiantil y su aplicación en instituciones educativas."
      ],
      "metadata": {
        "id": "neCKtCQPS5G7"
      }
    },
    {
      "cell_type": "markdown",
      "source": [
        "##**¿Cuál es el valor que Maeda le da al concepto de SIMPLICIDAD en el contexto de desarrollo tecnológico, innovación y diseño?**\n",
        "######John Maeda es el fundador del Consorcio de la SIMPLICIDAD en el Laboratorio de Medios, un grupo cuyo cometido es definir el valor de la simplicidad en la comunicación, la sanidad y el ocio y diseñar prototipos de sistemas y tecnologías \"simples\" que aseguren el éxito en el mercado. En su libro “Las leyes de la simplicidad” el definió este concepto en 8 leyes principales las cuales se plantean como guías para el buen diseño y una forma de ver la vida cotidiana con un enfoque en la simpleza valorando la organización, el aprendizaje, tiempo, entre otras características detalladas en su libro."
      ],
      "metadata": {
        "id": "KTjNxoGxTBdY"
      }
    },
    {
      "cell_type": "markdown",
      "source": [
        "##**Referencias**\n",
        "\n",
        "- MIT Media Lab. (s. f.). *John Maeda: STEM to STEAM*. MIT Media Lab. https://www.media.mit.edu/events/john-maeda-stem-steam/\n",
        "\n",
        "- RISD. (s. f.). *John Maeda moves on*. https://www.risd.edu/news/stories/john-maeda-moves\n",
        "\n",
        "- Massachusetts Institute of Technology. (2007). *John Maeda named president of Rhode Island School of Design*. MIT News. https://news.mit.edu/2007/announcement-risd-1222\n",
        "\n",
        "- *Las 8 leyes de la simplicidad de John Maeda*. (2015). SLEEPYDAYS. https://www.sleepydays.es/2015/11/leyes-simplicidad-john-maeda.html\n",
        "\n",
        "- *Las 8 leyes de la simplicidad de John Maed (Parte 2)*. (2015). SLEEPYDAYS. https://www.sleepydays.es/2015/11/las-8-leyes-de-la-simplicidad-de-john-maeda-aplicadas-a-la-infografia-parte-2.html\n",
        "\n",
        "- Maeda, J. (2012). *STEM to STEAM: Art in K-12 is key to building a strong economy*. Edutopia. https://www.edutopia.org/blog/stem-to-steam-strengthens-economy-john-maeda\n",
        "\n",
        "- Maeda, J. (2013). *STEM + art = STEAM*. The STEAM Journal, 1(1), Article 34. https://doi.org/10.5642/steam.201301.34\n",
        "\n",
        "- Maeda, J. (2019). *How to speak machine: Laws of design for a digital age*. https://static.fnac-static.com/multimedia/PT/pdf/9780241422144.pdf\n",
        "\n",
        "- *Maeda, John*. (2023). Editorial Gedisa. https://gedisa.com/autor.aspx?codaut=984\n",
        "\n",
        "- Roach, D. (2017). *STEM to STEAM: An interview with RISD’s president, John Maeda*. HuffPost. https://www.huffpost.com/entry/john-maeda-interview_b_1254548\n",
        "\n",
        "- Serón, F. (2020). *El enfoque STEAM: Diseño participativo en una experiencia de ciencia ciudadana*. Redalyc. https://www.redalyc.org/journal/6958/695874395017/html/\n",
        "\n",
        "- Soriano, M. (2023). *¿Qué es la educación STEM/STEAM y por qué es importante?* - Ignite Online. Ignite Online. https://igniteonline.la/que-es-la-educacion-stem-steam-y-por-que-es-importante/\n",
        "\n",
        "- Srivastava, A. (2022). *Fusionando las artes en el aprendizaje: La transición de STEM a la educación STEAM*. Edustoke. https://www.edustoke.com/es/blog/merging-arts-in-learning-the-transition-from-stem-to-steam-education/\n",
        "\n",
        "- RISD. (s. f.). *STEAM*. https://www.risd.edu/steam\n"
      ],
      "metadata": {
        "id": "U-4oI718kj2w"
      }
    }
  ]
}